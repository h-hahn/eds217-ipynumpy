{
 "cells": [
  {
   "cell_type": "markdown",
   "metadata": {},
   "source": [
    "# **PLOTLY!**\n",
    "\n",
    "#### **Haejin Kim, Hope Hahn, Kat Le, Melissa Widas**\n",
    "\n",
    "Plotly is a graphing library that allows us to create a large variety of graphs with interactive, web-based applications. It was created in 2013 by four people named Jack, Chris, Matthrew, and Alex to create web-based data visualization in Python.\n",
    "\n",
    "Plotly could be used for (Add potential use in Environmental Data Science)"
   ]
  },
  {
   "cell_type": "markdown",
   "metadata": {},
   "source": [
    "## Making different plots\n",
    "\n",
    "Add different charts "
   ]
  },
  {
   "cell_type": "markdown",
   "metadata": {},
   "source": [
    "## **Shareability**\n",
    "\n",
    "Plotly is special because we can make links to our charts that the public can interact with and stuff. \n",
    "\n",
    "### **Making shareable links to the charts**"
   ]
  },
  {
   "cell_type": "markdown",
   "metadata": {},
   "source": [
    "## Citations"
   ]
  },
  {
   "cell_type": "markdown",
   "metadata": {},
   "source": []
  }
 ],
 "metadata": {
  "language_info": {
   "name": "python"
  },
  "orig_nbformat": 4
 },
 "nbformat": 4,
 "nbformat_minor": 2
}
