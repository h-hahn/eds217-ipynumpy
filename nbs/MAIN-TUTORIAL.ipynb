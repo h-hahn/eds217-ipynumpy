{
 "cells": [
  {
   "cell_type": "markdown",
   "metadata": {},
   "source": [
    "# **PLOTLY!**\n",
    "\n",
    "#### **Haejin Kim, Hope Hahn, Kat Le, Melissa Widas**\n",
    "\n",
    "Plotly is a graphing library that allows us to create a large variety of graphs with interactive, web-based applications. It was created in 2013 by four people named Jack, Chris, Matthrew, and Alex to create web-based data visualization in Python.\n",
    "\n",
    "Plotly could be used for any type of Environmental Data Science visualization. It can create a myriad of plots: scatter, bar, histograms, etc., and can even make cool map visualization stuff. It does all! Plotly would be particularly useful for any type of data that you would like to be accessible to anyone. We can use plotly to not only make graphs in Python, but also to create interactive applications and website pages. So fun!"
   ]
  },
  {
   "cell_type": "code",
   "execution_count": 1,
   "metadata": {},
   "outputs": [
    {
     "name": "stdout",
     "output_type": "stream",
     "text": [
      "Intel MKL WARNING: Support of Intel(R) Streaming SIMD Extensions 4.2 (Intel(R) SSE4.2) enabled only processors has been deprecated. Intel oneAPI Math Kernel Library 2025.0 will require Intel(R) Advanced Vector Extensions (Intel(R) AVX) instructions.\n",
      "Intel MKL WARNING: Support of Intel(R) Streaming SIMD Extensions 4.2 (Intel(R) SSE4.2) enabled only processors has been deprecated. Intel oneAPI Math Kernel Library 2025.0 will require Intel(R) Advanced Vector Extensions (Intel(R) AVX) instructions.\n"
     ]
    },
    {
     "ename": "ModuleNotFoundError",
     "evalue": "No module named 'chart_studio'",
     "output_type": "error",
     "traceback": [
      "\u001b[0;31m---------------------------------------------------------------------------\u001b[0m",
      "\u001b[0;31mModuleNotFoundError\u001b[0m                       Traceback (most recent call last)",
      "\u001b[1;32m/Users/katle/Desktop/Desktop - kat’s MacBook Air/github/eds217-ipynumpy/nbs/MAIN-TUTORIAL.ipynb Cell 2\u001b[0m line \u001b[0;36m5\n\u001b[1;32m      <a href='vscode-notebook-cell:/Users/katle/Desktop/Desktop%20-%20kat%E2%80%99s%20MacBook%20Air/github/eds217-ipynumpy/nbs/MAIN-TUTORIAL.ipynb#X26sZmlsZQ%3D%3D?line=2'>3</a>\u001b[0m \u001b[39mimport\u001b[39;00m \u001b[39mplotly\u001b[39;00m\u001b[39m.\u001b[39;00m\u001b[39mgraph_objects\u001b[39;00m \u001b[39mas\u001b[39;00m \u001b[39mgo\u001b[39;00m\n\u001b[1;32m      <a href='vscode-notebook-cell:/Users/katle/Desktop/Desktop%20-%20kat%E2%80%99s%20MacBook%20Air/github/eds217-ipynumpy/nbs/MAIN-TUTORIAL.ipynb#X26sZmlsZQ%3D%3D?line=3'>4</a>\u001b[0m \u001b[39mimport\u001b[39;00m \u001b[39mplotly\u001b[39;00m\u001b[39m.\u001b[39;00m\u001b[39msubplots\u001b[39;00m \u001b[39mas\u001b[39;00m \u001b[39msp\u001b[39;00m\n\u001b[0;32m----> <a href='vscode-notebook-cell:/Users/katle/Desktop/Desktop%20-%20kat%E2%80%99s%20MacBook%20Air/github/eds217-ipynumpy/nbs/MAIN-TUTORIAL.ipynb#X26sZmlsZQ%3D%3D?line=4'>5</a>\u001b[0m \u001b[39mimport\u001b[39;00m \u001b[39mchart_studio\u001b[39;00m\u001b[39m.\u001b[39;00m\u001b[39mplotly\u001b[39;00m \u001b[39mas\u001b[39;00m \u001b[39mpy\u001b[39;00m\n\u001b[1;32m      <a href='vscode-notebook-cell:/Users/katle/Desktop/Desktop%20-%20kat%E2%80%99s%20MacBook%20Air/github/eds217-ipynumpy/nbs/MAIN-TUTORIAL.ipynb#X26sZmlsZQ%3D%3D?line=5'>6</a>\u001b[0m \u001b[39mimport\u001b[39;00m \u001b[39mchart_studio\u001b[39;00m\n\u001b[1;32m      <a href='vscode-notebook-cell:/Users/katle/Desktop/Desktop%20-%20kat%E2%80%99s%20MacBook%20Air/github/eds217-ipynumpy/nbs/MAIN-TUTORIAL.ipynb#X26sZmlsZQ%3D%3D?line=6'>7</a>\u001b[0m \u001b[39mimport\u001b[39;00m \u001b[39mos\u001b[39;00m\n",
      "\u001b[0;31mModuleNotFoundError\u001b[0m: No module named 'chart_studio'"
     ]
    }
   ],
   "source": [
    "import pandas as pd\n",
    "import plotly.express as px\n",
    "import plotly.graph_objects as go\n",
    "import plotly.subplots as sp\n",
    "import chart_studio.plotly as py\n",
    "import chart_studio\n",
    "import os"
   ]
  },
  {
   "cell_type": "markdown",
   "metadata": {},
   "source": [
    "## **Making different plots**\n",
    "\n",
    "### **Scatterplots**\n",
    "\n"
   ]
  },
  {
   "cell_type": "code",
   "execution_count": null,
   "metadata": {},
   "outputs": [],
   "source": []
  },
  {
   "cell_type": "markdown",
   "metadata": {},
   "source": [
    "\n",
    "### **Map**\n",
    "wow some map\n",
    "\n",
    "### **Bargraphs**\n",
    "wowww!!!"
   ]
  },
  {
   "cell_type": "markdown",
   "metadata": {},
   "source": [
    "## **Shareability**\n",
    "\n",
    "Plotly is special because we can make links to our charts that the public can interact with and stuff. \n",
    "\n",
    "### **Making shareable links to the charts**\n",
    "we had to download a lot of weird plotly stuff\n",
    "CHART STUDIO!"
   ]
  },
  {
   "cell_type": "markdown",
   "metadata": {},
   "source": [
    "In order to use Chart Studio one of the most important things is to remember that you will need to set credentials, similarly to how we had to set credentials for GitHub. \n",
    "\n",
    "1st thing we are going to do is create a .env file in our repository to be able to keep our username and api_key private from other users. The following code was generated with the help of ChatGPT and Kelly! "
   ]
  },
  {
   "cell_type": "markdown",
   "metadata": {},
   "source": [
    "If you want to read environment variables from a `.env` file using only the `os` module without any additional imports, you can manually parse the file and set the environment variables in your Python script. Here's an example of how you can do this:\n",
    "\n",
    "1. Create a `.env` file with your environment variables in the following format:\n",
    "\n"
   ]
  },
  {
   "cell_type": "code",
   "execution_count": null,
   "metadata": {},
   "outputs": [],
   "source": [
    "\n",
    "API_KEY=your_api_key\n",
    "SECRET_KEY=your_secret_key"
   ]
  },
  {
   "cell_type": "markdown",
   "metadata": {},
   "source": [
    "\n",
    "2. Use the `os` module to read and set the environment variables in your Python script:"
   ]
  },
  {
   "cell_type": "code",
   "execution_count": null,
   "metadata": {},
   "outputs": [],
   "source": [
    "import os\n",
    "\n",
    "# Define the path to your .env file\n",
    "env_file_path = '.env'\n",
    "\n",
    "# Define the path to your .env file\n",
    "env_file_path = '../.env'\n",
    "# Check if the .env file exists\n",
    "if os.path.exists(env_file_path):\n",
    "    # Read the .env file line by line\n",
    "    with open(env_file_path, 'r') as env_file:\n",
    "        for line in env_file:\n",
    "            # Split each line into key and value\n",
    "            key, value = line.strip().split('=', 1)\n",
    "            # Set the environment variable\n",
    "            os.environ[key] = value\n",
    "else:\n",
    "    print(\"You need to create a `.env` file that contains your Plotly API credentials\")"
   ]
  },
  {
   "cell_type": "markdown",
   "metadata": {},
   "source": [
    "\n",
    "In this code:\n",
    "\n",
    "- We specify the path to your `.env` file (you can adjust it if your file is in a different location).\n",
    "- We check if the `.env` file exists, and if it does, we read it line by line, splitting each line into a key-value pair and setting the environment variable using `os.environ`.\n",
    "- Finally, we access the environment variables using `os.environ.get()` and use them in your code.\n"
   ]
  },
  {
   "cell_type": "code",
   "execution_count": null,
   "metadata": {},
   "outputs": [],
   "source": [
    "username = os.getenv('USERNAME') \n",
    "api_key = os.getenv('API_KEY')\n",
    "chart_studio.tools.set_credentials_file(username=username, api_key=api_key)"
   ]
  },
  {
   "cell_type": "markdown",
   "metadata": {},
   "source": [
    "In this code:\n",
    "- We have set our username and our api_key to pull from our .env file\n",
    "- We have established out chart studio credentials in order to utilize the chart studio interface in order to create interactive graphs and visualizations"
   ]
  },
  {
   "cell_type": "code",
   "execution_count": null,
   "metadata": {},
   "outputs": [],
   "source": [
    "fig1_link = py.plot(fig1, filename='scatter-plot', auto_open=False, sharing ='public', username = username, api_key = api_key)\n",
    "print(\"Link to the chart:\", fig1_link)"
   ]
  },
  {
   "cell_type": "markdown",
   "metadata": {},
   "source": [
    "\n",
    "In this code:\n",
    "- We have created and printed a link that automatically opens into chart studio"
   ]
  },
  {
   "cell_type": "markdown",
   "metadata": {},
   "source": [
    "## Citations"
   ]
  },
  {
   "cell_type": "markdown",
   "metadata": {},
   "source": []
  }
 ],
 "metadata": {
  "kernelspec": {
   "display_name": "ipynumpy",
   "language": "python",
   "name": "python3"
  },
  "language_info": {
   "codemirror_mode": {
    "name": "ipython",
    "version": 3
   },
   "file_extension": ".py",
   "mimetype": "text/x-python",
   "name": "python",
   "nbconvert_exporter": "python",
   "pygments_lexer": "ipython3",
   "version": "3.10.13"
  },
  "orig_nbformat": 4
 },
 "nbformat": 4,
 "nbformat_minor": 2
}
