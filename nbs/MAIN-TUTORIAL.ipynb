{
 "cells": [
  {
   "cell_type": "markdown",
   "metadata": {},
   "source": [
    "# **PLOTLY!**\n",
    "\n",
    "#### **Haejin Kim, Hope Hahn, Kat Le, Melissa Widas**\n",
    "\n",
    "Plotly is a graphing library that allows us to create a large variety of graphs with interactive, web-based applications. It was created in 2013 by four people named Jack, Chris, Matthrew, and Alex to create web-based data visualization in Python.\n",
    "\n",
    "Plotly could be used for any type of Environmental Data Science visualization. It can create a myriad of plots: scatter, bar, histograms, etc., and can even make cool map visualization stuff. It does all! Plotly would be particularly useful for any type of data that you would like to be accessible to anyone. We can use plotly to not only make graphs in Python, but also to create interactive applications and website pages. So fun!"
   ]
  },
  {
   "cell_type": "markdown",
   "metadata": {},
   "source": [
    "## **Making different plots**\n",
    "\n",
    "### **Scatterplots**\n",
    "we made some scatterplots\n",
    "\n",
    "### **Map**\n",
    "wow some map\n",
    "\n",
    "### **Bargraphs**\n",
    "wowww!!!"
   ]
  },
  {
   "cell_type": "markdown",
   "metadata": {},
   "source": [
    "## **Shareability**\n",
    "\n",
    "Plotly is special because we can make links to our charts that the public can interact with and stuff. \n",
    "\n",
    "### **Making shareable links to the charts**\n",
    "we had to download a lot of weird plotly stuff\n",
    "CHART STUDIO!"
   ]
  },
  {
   "cell_type": "markdown",
   "metadata": {},
   "source": [
    "In order to use Chart Studio one of the most important things is to remember that you will need to set credentials, similarly to how we had to set credentials for GitHub. \n",
    "\n",
    "1st thing we are going to do is create a .env file in our repository to be able to keep our username and api_key private from other users. The following code was generated with the help of ChatGPT and Kelly! "
   ]
  },
  {
   "cell_type": "markdown",
   "metadata": {},
   "source": [
    "If you want to read environment variables from a `.env` file using only the `os` module without any additional imports, you can manually parse the file and set the environment variables in your Python script. Here's an example of how you can do this:\n",
    "\n",
    "1. Create a `.env` file with your environment variables in the following format:\n",
    "\n"
   ]
  },
  {
   "cell_type": "code",
   "execution_count": null,
   "metadata": {},
   "outputs": [],
   "source": [
    "\n",
    "API_KEY=your_api_key\n",
    "SECRET_KEY=your_secret_key"
   ]
  },
  {
   "cell_type": "markdown",
   "metadata": {},
   "source": [
    "\n",
    "2. Use the `os` module to read and set the environment variables in your Python script:"
   ]
  },
  {
   "cell_type": "code",
   "execution_count": null,
   "metadata": {},
   "outputs": [],
   "source": [
    "import os\n",
    "\n",
    "# Define the path to your .env file\n",
    "env_file_path = '.env'\n",
    "\n",
    "# Define the path to your .env file\n",
    "env_file_path = '../.env'\n",
    "# Check if the .env file exists\n",
    "if os.path.exists(env_file_path):\n",
    "    # Read the .env file line by line\n",
    "    with open(env_file_path, 'r') as env_file:\n",
    "        for line in env_file:\n",
    "            # Split each line into key and value\n",
    "            key, value = line.strip().split('=', 1)\n",
    "            # Set the environment variable\n",
    "            os.environ[key] = value\n",
    "else:\n",
    "    print(\"You need to create a `.env` file that contains your Plotly API credentials\")"
   ]
  },
  {
   "cell_type": "markdown",
   "metadata": {},
   "source": [
    "\n",
    "In this code:\n",
    "\n",
    "- We specify the path to your `.env` file (you can adjust it if your file is in a different location).\n",
    "- We check if the `.env` file exists, and if it does, we read it line by line, splitting each line into a key-value pair and setting the environment variable using `os.environ`.\n",
    "- Finally, we access the environment variables using `os.environ.get()` and use them in your code.\n"
   ]
  },
  {
   "cell_type": "code",
   "execution_count": null,
   "metadata": {},
   "outputs": [],
   "source": [
    "username = os.getenv('USERNAME') \n",
    "api_key = os.getenv('API_KEY')\n",
    "chart_studio.tools.set_credentials_file(username=username, api_key=api_key)"
   ]
  },
  {
   "cell_type": "markdown",
   "metadata": {},
   "source": [
    "In this code:\n",
    "- We have set our username and our api_key to pull from our .env file\n",
    "- We have established out chart studio credentials in order to utilize the chart studio interface in order to create interactive graphs and visualizations"
   ]
  },
  {
   "cell_type": "code",
   "execution_count": null,
   "metadata": {},
   "outputs": [],
   "source": [
    "fig1_link = py.plot(fig1, filename='scatter-plot', auto_open=False, sharing ='public', username = username, api_key = api_key)\n",
    "print(\"Link to the chart:\", fig1_link)"
   ]
  },
  {
   "cell_type": "markdown",
   "metadata": {},
   "source": [
    "\n",
    "In this code:\n",
    "- We have created and printed a link that automatically opens into chart studio"
   ]
  },
  {
   "cell_type": "markdown",
   "metadata": {},
   "source": [
    "## Citations"
   ]
  },
  {
   "cell_type": "markdown",
   "metadata": {},
   "source": []
  }
 ],
 "metadata": {
  "kernelspec": {
   "display_name": "ipynumpy",
   "language": "python",
   "name": "python3"
  },
  "language_info": {
   "name": "python",
   "version": "3.10.13"
  },
  "orig_nbformat": 4
 },
 "nbformat": 4,
 "nbformat_minor": 2
}
