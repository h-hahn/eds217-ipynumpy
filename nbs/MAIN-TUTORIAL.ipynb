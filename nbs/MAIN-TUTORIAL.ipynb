{
 "cells": [
  {
   "cell_type": "markdown",
   "metadata": {},
   "source": [
    "# **PLOTLY!**\n",
    "\n",
    "#### **Haejin Kim, Hope Hahn, Kat Le, Melissa Widas**\n",
    "\n",
    "Plotly is a graphing library that allows us to create a large variety of graphs with interactive, web-based applications. It was created in 2013 by four people named Jack, Chris, Matthrew, and Alex to create web-based data visualization in Python.\n",
    "\n",
    "Plotly could be used for any type of Environmental Data Science visualization. It can create a myriad of plots: scatter, bar, histograms, etc., and can even make cool map visualization stuff. It does all! Plotly would be particularly useful for any type of data that you would like to be accessible to anyone. We can use plotly to not only make graphs in Python, but also to create interactive applications and website pages. So fun!"
   ]
  },
  {
   "cell_type": "markdown",
   "metadata": {},
   "source": [
    "## **Making different plots**\n",
    "\n",
    "### **Scatterplots**\n",
    "we made some scatterplots\n",
    "\n",
    "### **Map**\n",
    "wow some map\n",
    "\n",
    "### **Bargraphs**\n",
    "wowww!!!"
   ]
  },
  {
   "cell_type": "markdown",
   "metadata": {},
   "source": [
    "## **Shareability**\n",
    "\n",
    "Plotly is special because we can make links to our charts that the public can interact with and stuff. \n",
    "\n",
    "### **Making shareable links to the charts**\n",
    "we had to download a lot of weird plotly stuff\n",
    "CHART STUDIO!"
   ]
  },
  {
   "cell_type": "markdown",
   "metadata": {},
   "source": [
    "## Citations"
   ]
  },
  {
   "cell_type": "markdown",
   "metadata": {},
   "source": []
  }
 ],
 "metadata": {
  "language_info": {
   "name": "python"
  },
  "orig_nbformat": 4
 },
 "nbformat": 4,
 "nbformat_minor": 2
}
